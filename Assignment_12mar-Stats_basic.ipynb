{
 "cells": [
  {
   "cell_type": "code",
   "execution_count": null,
   "id": "a976d4f4-7ada-49af-90fa-4c8fef774806",
   "metadata": {},
   "outputs": [],
   "source": [
    "Q1. Calculate the 95% confidence interval for a sample of data with a mean of 50 and a standard deviation\n",
    "of 5 using Python. Interpret the results."
   ]
  },
  {
   "cell_type": "code",
   "execution_count": 7,
   "id": "0a2ba218-4f2f-409a-b87d-cb74d937c666",
   "metadata": {},
   "outputs": [
    {
     "name": "stdout",
     "output_type": "stream",
     "text": [
      "At 95% confidence level population mean lies between: (49.53424952593098, 50.46575047406902)\n"
     ]
    }
   ],
   "source": [
    "from math import sqrt\n",
    "\n",
    "# significance_level = 0.05\n",
    "# α/2 = 0.05/2 = 0.025\n",
    "# area = 1-0.025 = 0.975\n",
    "# z-score = 1.96\n",
    "\n",
    "def estimated_range_population_mean(X̄, std, n, z_score):\n",
    "    moe = std / (z_score * sqrt(n))\n",
    "    lower_bound = X̄ - moe\n",
    "    upper_bound = X̄ + moe\n",
    "\n",
    "    return lower_bound, upper_bound\n",
    "\n",
    "X̄ = 50\n",
    "std = 5\n",
    "n = 30\n",
    "z_score = 1.96\n",
    "estimated_range_μ = estimated_range_population_mean(X̄, std, n, z_score)\n",
    "print(\"At 95% confidence level population mean lies between:\", estimated_range_μ)"
   ]
  },
  {
   "cell_type": "code",
   "execution_count": null,
   "id": "c89df124-3e5a-43be-a6da-8d634bffa294",
   "metadata": {},
   "outputs": [],
   "source": [
    "Q2. Conduct a chi-square goodness of fit test to determine if the distribution of colors of M&Ms in a bag\n",
    "matches the expected distribution of 20% blue, 20% orange, 20% green, 10% yellow, 10% red, and 20%\n",
    "brown. Use Python to perform the test with a significance level of 0.05."
   ]
  },
  {
   "cell_type": "code",
   "execution_count": 39,
   "id": "06907f35-5c0e-44df-892a-8029781ceac8",
   "metadata": {},
   "outputs": [
    {
     "name": "stdout",
     "output_type": "stream",
     "text": [
      "Observed frequencies:  [30 25 28 14 12 21]\n",
      "Expected frequencies:  [26. 26. 26. 13. 13. 26.]\n",
      "Chi-square statistic : 1.923076923076923 and p-value : 0.8596831719899516\n",
      "Failed to Reject the null hypothesis as the distribution of M&M colors does not match the expected distribution\n"
     ]
    }
   ],
   "source": [
    "from scipy.stats import chisquare\n",
    "import numpy as np\n",
    "\n",
    "alpha = 0.05\n",
    "observ_freq = np.array([30, 25, 28, 14, 12, 21])  \n",
    "expec_freq = np.array([0.2,0.2,0.2,0.1,0.1,0.2]) * observ_freq.sum()\n",
    "print('Observed frequencies: ',observ_freq,)\n",
    "print('Expected frequencies: ',expec_freq)\n",
    "chi_square,pvalue = chisquare(observ_freq,expec_freq)\n",
    "print(\"Chi-square statistic :\",chi_square, \"and p-value :\",pvalue)\n",
    "\n",
    "if pvalue < alpha:\n",
    "    print(\"Reject the null hypothesis as the distribution of M&M colors matches the expected distribution\")\n",
    "else:\n",
    "    print(\"Failed to Reject the null hypothesis as the distribution of M&M colors does not match the expected distribution\")"
   ]
  },
  {
   "cell_type": "code",
   "execution_count": null,
   "id": "e656d2ea-785a-4066-b300-8e0157a8cb00",
   "metadata": {},
   "outputs": [],
   "source": [
    "Q3. Use Python to calculate the chi-square statistic and p-value for a contingency table with the following\n",
    "data:\n",
    "    \n",
    "            Group A    Group B      Total\n",
    "Outcome 1       20        15          35\n",
    "Outcome 2       10        25          35\n",
    "Outcome 3       15        20          35\n",
    "Total           45        60         105\n",
    "Interpret the results of the test."
   ]
  },
  {
   "cell_type": "code",
   "execution_count": 4,
   "id": "6ee5524e-e265-4c79-9bf0-919f79e72b43",
   "metadata": {},
   "outputs": [
    {
     "name": "stdout",
     "output_type": "stream",
     "text": [
      "Observed Frequencies-\n",
      "            Group A  Group B\n",
      "Outcome 1       20       15\n",
      "Outcome 2       10       25\n",
      "Outcome 3       15       20\n",
      "\n",
      "Expected Frequencies-\n",
      "            Group A  Group B\n",
      "Outcome 1     15.0     20.0\n",
      "Outcome 2     15.0     20.0\n",
      "Outcome 3     15.0     20.0 \n",
      "\n",
      "Chi-square test-statistic-  5.833333333333334 \n",
      "P value- 0.05411376622282158 , Degree of freedom- 2\n"
     ]
    }
   ],
   "source": [
    "import pandas as pd\n",
    "from scipy.stats import chi2_contingency\n",
    "\n",
    "\n",
    "obs_data = pd.DataFrame({'Group A':[20,10,15], 'Group B':[15,25,20]},index=['Outcome 1','Outcome 2','Outcome 3'])\n",
    "print('Observed Frequencies-\\n',obs_data)\n",
    "\n",
    "alpha = 0.05\n",
    "\n",
    "chisquare_statistic, p_value, dof, expected = chi2_contingency(obs_data)\n",
    "\n",
    "expec_data = pd.DataFrame(expected,index=['Outcome 1','Outcome 2','Outcome 3'],columns = ['Group A', 'Group B'])\n",
    "print('\\nExpected Frequencies-\\n',expec_data,'\\n')\n",
    "print('Chi-square test-statistic- ',chisquare_statistic,'\\nP value-',p_value,', Degree of freedom-',dof)"
   ]
  },
  {
   "cell_type": "code",
   "execution_count": null,
   "id": "d0e4f6d0-2ffe-43a5-a627-6f2949ec58d8",
   "metadata": {},
   "outputs": [],
   "source": [
    "Q4. A study of the prevalence of smoking in a population of 500 individuals found that 60 individuals\n",
    "smoked. Use Python to calculate the 95% confidence interval for the true proportion of individuals in the\n",
    "population who smoke."
   ]
  },
  {
   "cell_type": "code",
   "execution_count": 26,
   "id": "bb4c7d14-eff0-41c2-9445-6e064b27eda1",
   "metadata": {},
   "outputs": [
    {
     "name": "stdout",
     "output_type": "stream",
     "text": [
      "0.12 is the sample proportion; this is the point estimate of the population proportion.\n",
      "Z-statistic:-  1.959963984540054\n",
      "At 95% confidence level population mean lies between 0.09151638887130707 and 0.1484836111286929\n"
     ]
    }
   ],
   "source": [
    "import scipy.stats as st\n",
    "from math import sqrt\n",
    "\n",
    "n=500\n",
    "#the number of individuals who smoke\n",
    "x=60\n",
    "p=x/n\n",
    "print(p,'is the sample proportion; this is the point estimate of the population proportion.')\n",
    "\n",
    "# CL is confidence limit\n",
    "ci = 0.95\n",
    "α = 1 - ci\n",
    "z_stats = st.norm.ppf(1-α/2)\n",
    "print('Z-statistic:- ',z_stats)\n",
    "\n",
    "#standard error\n",
    "standard_error = sqrt((p*(1-p))/n)\n",
    "\n",
    "#margin of error\n",
    "moe = z_stats*standard_error\n",
    "\n",
    "lower_bound = p - moe\n",
    "upper_bound = p + moe\n",
    "\n",
    "print(\"At 95% confidence level population mean lies between\", lower_bound,'and', upper_bound)"
   ]
  },
  {
   "cell_type": "code",
   "execution_count": null,
   "id": "628f4b85-b0e3-4a5f-80a0-ecdee338a601",
   "metadata": {},
   "outputs": [],
   "source": [
    "Q5. Calculate the 90% confidence interval for a sample of data with a mean of 75 and a standard deviation\n",
    "of 12 using Python. Interpret the results."
   ]
  },
  {
   "cell_type": "code",
   "execution_count": 6,
   "id": "782596c3-e387-4448-9cd4-1de64891c396",
   "metadata": {},
   "outputs": [
    {
     "name": "stdout",
     "output_type": "stream",
     "text": [
      "At 90% confidence level population mean lies between: (73.67218773938141, 76.32781226061859)\n"
     ]
    }
   ],
   "source": [
    "from math import sqrt\n",
    "\n",
    "# significance_level = 0.1\n",
    "# α/2 = 0.1/2 = 0.05\n",
    "# area = 1-0.05 = 0.95\n",
    "# z-score = 1.65\n",
    "\n",
    "def estimated_range_population_mean(X̄, std, n, z_score):\n",
    "    moe = std / (z_score * sqrt(n))\n",
    "    lower_bound = X̄ - moe\n",
    "    upper_bound = X̄ + moe\n",
    "\n",
    "    return lower_bound, upper_bound\n",
    "\n",
    "X̄ = 75\n",
    "std = 12\n",
    "n = 30\n",
    "z_score = 1.65\n",
    "\n",
    "estimated_range_μ = estimated_range_population_mean(X̄, std, n, z_score)\n",
    "print(\"At 90% confidence level population mean lies between:\", estimated_range_μ)"
   ]
  },
  {
   "cell_type": "code",
   "execution_count": null,
   "id": "38578e7b-6f4d-483a-bf46-5208abdc753e",
   "metadata": {},
   "outputs": [],
   "source": [
    "Q6. Use Python to plot the chi-square distribution with 10 degrees of freedom. Label the axes and shade the\n",
    "area corresponding to a chi-square statistic of 15."
   ]
  },
  {
   "cell_type": "code",
   "execution_count": 19,
   "id": "ce58d775-a901-4454-8ba1-2e8f083662b9",
   "metadata": {},
   "outputs": [
    {
     "data": {
      "image/png": "[encoded data removed]",
      "text/plain": [
       "<Figure size 640x480 with 1 Axes>"
      ]
     },
     "metadata": {},
     "output_type": "display_data"
    }
   ],
   "source": [
    "import numpy as np\n",
    "import matplotlib.pyplot as plt\n",
    "from scipy.stats import chi2\n",
    "\n",
    "df=10\n",
    "x = np.linspace(0,30)\n",
    "# Calculate the chi-square distribution for the given degrees of freedom\n",
    "chi_square_dist = chi2.pdf(x, df)\n",
    "# shade the area corresponding to chi-square statistic\n",
    "plt.fill_between(x,chi_square_dist,where=(x >= 15), color='blue', alpha=0.5, label=\"Chi-Square Statistic = 15\")\n",
    "# plot chi-square distribution\n",
    "plt.plot(x, chi_square_dist,color='blue')\n",
    "plt.title('Chi-Square Distribution')\n",
    "plt.xlabel('chi-square statistic')\n",
    "plt.ylabel('Probability density function')\n",
    "plt.legend()\n",
    "plt.show()"
   ]
  },
  {
   "cell_type": "code",
   "execution_count": null,
   "id": "4fe64d88-892c-46af-93b5-9b78ff6a88db",
   "metadata": {},
   "outputs": [],
   "source": [
    "Q7. A random sample of 1000 people was asked if they preferred Coke or Pepsi. Of the sample, 520\n",
    "preferred Coke. Calculate a 99% confidence interval for the true proportion of people in the population who\n",
    "prefer Coke."
   ]
  },
  {
   "cell_type": "code",
   "execution_count": 27,
   "id": "f6b1172f-8c51-4da7-968a-0257fc33cb70",
   "metadata": {},
   "outputs": [
    {
     "name": "stdout",
     "output_type": "stream",
     "text": [
      "0.52 is the sample proportion; this is the point estimate of the population proportion.\n",
      "Z-statistic:-  2.5758293035489004\n",
      "At 99% confidence level population mean lies between 0.4793051576779699 and 0.5606948423220302\n"
     ]
    }
   ],
   "source": [
    "import scipy.stats as st\n",
    "from math import sqrt\n",
    "\n",
    "n=1000\n",
    "#the number of individuals who preferred coke\n",
    "x=520\n",
    "p=x/n\n",
    "print(p,'is the sample proportion; this is the point estimate of the population proportion.')\n",
    "\n",
    "# CL is confidence limit\n",
    "ci = 0.99\n",
    "α = 1 - ci\n",
    "z_stats = st.norm.ppf(1-α/2)\n",
    "print('Z-statistic:- ',z_stats)\n",
    "\n",
    "#standard error\n",
    "standard_error = sqrt((p*(1-p))/n)\n",
    "\n",
    "#margin of error\n",
    "moe = z_stats*standard_error\n",
    "\n",
    "lower_bound = p - moe\n",
    "upper_bound = p + moe\n",
    "\n",
    "print(\"At 99% confidence level population mean lies between\", lower_bound,'and', upper_bound)"
   ]
  },
  {
   "cell_type": "code",
   "execution_count": null,
   "id": "338b8ebc-e33d-4e3b-bc98-8b5106806573",
   "metadata": {},
   "outputs": [],
   "source": [
    "Q8. A researcher hypothesizes that a coin is biased towards tails. They flip the coin 100 times and observe\n",
    "45 tails. Conduct a chi-square goodness of fit test to determine if the observed frequencies match the\n",
    "expected frequencies of a fair coin. Use a significance level of 0.05."
   ]
  },
  {
   "cell_type": "code",
   "execution_count": 5,
   "id": "ae5590eb-e64b-480c-be00-d624991250b9",
   "metadata": {},
   "outputs": [
    {
     "name": "stdout",
     "output_type": "stream",
     "text": [
      "chisquare_test: 1.0101010101010102 and P_value: 0.3148786413364169\n",
      "We accept the null hypothesis as coin is not biased towards tails\n"
     ]
    }
   ],
   "source": [
    "import scipy.stats as stats \n",
    "\n",
    "expec_tails = [50,50]\n",
    "observ_tails = [45,55]\n",
    "\n",
    "alpha=0.05 \n",
    "chisquare_test_statistic,p_value = stats.chisquare(expec_tails,observ_tails)\n",
    "print('chisquare_test:',chisquare_test_statistic,'and','P_value:',p_value)\n",
    "\n",
    "if p_value > alpha:\n",
    "    print('We accept the null hypothesis as coin is not biased towards tails')\n",
    "else:\n",
    "    print('We reject the null hypothesis as coin is biased towards tails')"
   ]
  },
  {
   "cell_type": "code",
   "execution_count": null,
   "id": "237aec51-9fb7-4307-bef6-8e0d2fd5020e",
   "metadata": {},
   "outputs": [],
   "source": [
    "Q9. A study was conducted to determine if there is an association between smoking status (smoker or\n",
    "non-smoker) and lung cancer diagnosis (yes or no). The results are shown in the contingency table below.\n",
    "Conduct a chi-square test for independence to determine if there is a significant association between\n",
    "smoking status and lung cancer diagnosis.\n",
    "\n",
    "          Lung Cancer: Yes      Lung Cancer: No          Total\n",
    "Smoker        60                    140                   200\n",
    "Non-smoker    30                    170                   200\n",
    "Total         90                    310                   400\n",
    "Use a significance level of 0.05."
   ]
  },
  {
   "cell_type": "code",
   "execution_count": 13,
   "id": "be34d1d4-2d0e-4cd7-ba4d-fda9f54a52f8",
   "metadata": {},
   "outputs": [
    {
     "name": "stdout",
     "output_type": "stream",
     "text": [
      "Observed Frequencies-\n",
      "\n",
      "             Lung Cancer: Yes  Lung Cancer: No\n",
      "Smoker                    60              140\n",
      "Non-smoker                30              170\n",
      "\n",
      "Expected Frequencies-\n",
      "\n",
      "             Lung Cancer: Yes  Lung Cancer: No\n",
      "Smoker                  45.0            155.0\n",
      "Non-smoker              45.0            155.0\n",
      "Chi-square test-statistic-  12.057347670250895 \n",
      "P value- 0.0005158863863703744 , Degree of freedom- 1\n",
      "\n",
      "Reject the null hypothesis as there is a significant association between smoking status and lung cancer diagnosis\n"
     ]
    }
   ],
   "source": [
    "import pandas as pd\n",
    "from scipy.stats import chi2_contingency\n",
    "\n",
    "observed_f = pd.DataFrame({'Lung Cancer: Yes':[60,30], 'Lung Cancer: No':[140,170]}, index=['Smoker','Non-smoker'])\n",
    "print('Observed Frequencies-\\n\\n',observed_f)\n",
    "\n",
    "alpha=0.05\n",
    "chi2_stats,pvalue,dof,expected = chi2_contingency(observed_f)\n",
    "\n",
    "expected_f = pd.DataFrame(expected,columns = ['Lung Cancer: Yes', 'Lung Cancer: No'], index=['Smoker','Non-smoker'])\n",
    "print('\\nExpected Frequencies-\\n\\n',expected_f)\n",
    "print('Chi-square test-statistic- ',chi2_stats,'\\nP value-',pvalue,', Degree of freedom-',dof)\n",
    "\n",
    "# Decision rule\n",
    "\n",
    "if pvalue > alpha:\n",
    "    print('\\nAccept the null hypothesis')\n",
    "else:\n",
    "    print('\\nReject the null hypothesis as there is a significant association between smoking status and lung cancer diagnosis')"
   ]
  },
  {
   "cell_type": "code",
   "execution_count": null,
   "id": "3b6c98eb-1ca5-413d-90d1-05e0752e6466",
   "metadata": {},
   "outputs": [],
   "source": [
    "Q10. A study was conducted to determine if the proportion of people who prefer milk chocolate, dark\n",
    "chocolate, or white chocolate is different in the U.S. versus the U.K. A random sample of 500 people from\n",
    "the U.S. and a random sample of 500 people from the U.K. were surveyed. The results are shown in the\n",
    "contingency table below. Conduct a chi-square test for independence to determine if there is a significant\n",
    "association between chocolate preference and country of origin.\n",
    "\n",
    "\n",
    "              Milk Chocolate    Dark Chocolate    White Chocolate       Total\n",
    "U.S.(n=500)       200             150               150                  500\n",
    "U.K.(n=500)       225             175               100                  500\n",
    "Total             425             325               250                  1000\n",
    "Use a significance level of 0.01."
   ]
  },
  {
   "cell_type": "code",
   "execution_count": 65,
   "id": "6c3a65fb-e49a-4ee7-921b-8ab72bd13267",
   "metadata": {},
   "outputs": [
    {
     "name": "stdout",
     "output_type": "stream",
     "text": [
      "Observed Frequencies-\n",
      "\n",
      "       Milk Chocolate  Dark Chocolate  White Chocolate\n",
      "U.S.             200             150              150\n",
      "U.K.             225             175              100\n",
      "\n",
      "Expected Frequencies-\n",
      "\n",
      "       Milk Chocolate  Dark Chocolate  White Chocolate\n",
      "U.S.           212.5           162.5            125.0\n",
      "U.K.           212.5           162.5            125.0 \n",
      "\n",
      "Chi-square test-statistic-  13.393665158371041 \n",
      "P value- 0.0012348168997745918 , Degree of freedom- 2\n",
      "\n",
      "Reject the null hypothesis as there is a significant association between chocolate preference and country of origin\n"
     ]
    }
   ],
   "source": [
    "import pandas as pd\n",
    "from scipy.stats import chi2_contingency\n",
    "\n",
    "\n",
    "data1 = pd.DataFrame({'Milk Chocolate':[200,225],'Dark Chocolate':[150,175],'White Chocolate':[150,100]},index=['U.S.','U.K.'])\n",
    "print('Observed Frequencies-\\n\\n',data1)\n",
    "\n",
    "alpha = 0.01\n",
    "\n",
    "# H0: Two variables (the grouping variable and the outcome) are independent\n",
    "# H1: H0 is false\n",
    "\n",
    "chisquare_statistic, p_value, dof, expected = chi2_contingency(data1)\n",
    "\n",
    "expected=pd.DataFrame(expected,index=['U.S.','U.K.'],columns = ['Milk Chocolate', 'Dark Chocolate', 'White Chocolate'])\n",
    "print('\\nExpected Frequencies-\\n\\n',expected,'\\n')\n",
    "print('Chi-square test-statistic- ',chisquare_statistic,'\\nP value-',p_value,', Degree of freedom-',dof)\n",
    "\n",
    "# Decision rule\n",
    "\n",
    "if p_value < alpha:\n",
    "    print('\\nReject the null hypothesis as there is a significant association between chocolate preference and country of origin')\n",
    "else:\n",
    "    print('\\nAccept the null hypothesis as there is no significant association between chocolate preference and country of origin')"
   ]
  },
  {
   "cell_type": "code",
   "execution_count": null,
   "id": "79ffa412-4426-4e85-8164-066ea79da713",
   "metadata": {},
   "outputs": [],
   "source": [
    "Q11. A random sample of 30 people was selected from a population with an unknown mean and standard\n",
    "deviation. The sample mean was found to be 72 and the sample standard deviation was found to be 10.\n",
    "Conduct a hypothesis test to determine if the population mean is significantly different from 70. Use a\n",
    "significance level of 0.05."
   ]
  },
  {
   "cell_type": "code",
   "execution_count": null,
   "id": "d623646b-c86b-4be7-87b3-6aa96f325c4e",
   "metadata": {},
   "outputs": [],
   "source": [
    "n=30, X̄ =72, s=10, significance level = 0.05\n",
    "\n",
    "Null Hypothesis: 𝜇=70\n",
    "Alternate Hypothesis: 𝜇≠70\n",
    "\n",
    "degree of freedom = n-1 = 30-1= 29\n",
    "\n",
    "using t-test,\n",
    "t-score at 0.025 significance level  = 2.045\n",
    "calculating t-test statistics,t = (X̄-mu)/(s/sqrt(n))\n",
    "                                = (72-70)/(10/5.477)\n",
    "                                = 2/1.825 = 1.0958\n",
    "Decision Rule: \n",
    "     T-test(1.0958)<2.045\n",
    "    Therefore, we are accepting the null hypothesis that the population mean is 70."
   ]
  }
 ],
 "metadata": {
  "kernelspec": {
   "display_name": "Python 3 (ipykernel)",
   "language": "python",
   "name": "python3"
  },
  "language_info": {
   "codemirror_mode": {
    "name": "ipython",
    "version": 3
   },
   "file_extension": ".py",
   "mimetype": "text/x-python",
   "name": "python",
   "nbconvert_exporter": "python",
   "pygments_lexer": "ipython3",
   "version": "3.10.8"
  }
 },
 "nbformat": 4,
 "nbformat_minor": 5
}
